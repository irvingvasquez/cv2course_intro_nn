{
 "cells": [
  {
   "attachments": {},
   "cell_type": "markdown",
   "metadata": {},
   "source": [
    "# Red neuronal simple\n",
    "\n",
    "(Ejercicio, 4 puntos posibles)\n",
    "\n",
    "En este notebook programaremos una red neuronal simple utilizando numpy. El objetivo es que comprendamos la diferencia con el perceptrón. A diferencia del ejercicio anterior en este usaremos funciones de numpy.\n",
    "\n",
    "- *numpy.dot(a, b, out=None)* Dot product of two arrays. Parameters: a array_like First argument, b array_like Second argument.\n",
    "\n",
    "[![Open In Colab](https://colab.research.google.com/assets/colab-badge.svg)](https://colab.research.google.com/github/irvingvasquez/cv2course_intro_nn/blob/master/02_red_neuronal_simple.ipynb)\n",
    "\n",
    "@juan1rving\n"
   ]
  },
  {
   "cell_type": "code",
   "execution_count": 8,
   "metadata": {},
   "outputs": [],
   "source": [
    "# Cargamos paquetes\n",
    "import numpy as np"
   ]
  },
  {
   "attachments": {},
   "cell_type": "markdown",
   "metadata": {},
   "source": [
    "### Función de activación\n",
    "\n",
    "Para este ejemplo utilizaremos la función sigmoide como función de activación.\n",
    "\n",
    "$$ f(x) = \\frac{ 1 }{1 + e^{-x} } \n"
   ]
  },
  {
   "cell_type": "code",
   "execution_count": 9,
   "metadata": {},
   "outputs": [],
   "source": [
    "# TODO (1 punto): Implementar la función de activación.\n",
    "def sigmoide(h):\n",
    "    sg = 1 / (1 + np.exp(-h))\n",
    "    return sg"
   ]
  },
  {
   "cell_type": "markdown",
   "metadata": {},
   "source": [
    "### Neurona simple\n",
    "\n",
    "Implementación de la neurona simple mediante una clase."
   ]
  },
  {
   "cell_type": "code",
   "execution_count": 10,
   "metadata": {},
   "outputs": [],
   "source": [
    "# TODO (1 punto): Implementar la clase Neurona\n",
    "class Neurona:\n",
    "    def __init__(self, W, b, activacion):\n",
    "        self.W = W\n",
    "        self.b = b\n",
    "        self.activacion = activacion\n",
    "\n",
    "    def combinacion_lineal(self, X):\n",
    "        h = np.dot(self.W, X) + self.b\n",
    "        return h\n",
    "\n",
    "    def forward(self, X):\n",
    "        h = self.combinacion_lineal(X)\n",
    "        return self.activacion(h)"
   ]
  },
  {
   "cell_type": "markdown",
   "metadata": {},
   "source": [
    "## Probar la red\n",
    "\n",
    "Ahora definamos unos pesos y veamos el resultado de una pasada frontal (fordward pass)."
   ]
  },
  {
   "cell_type": "code",
   "execution_count": 11,
   "metadata": {},
   "outputs": [
    {
     "name": "stdout",
     "output_type": "stream",
     "text": [
      "Output: 0.4329\n"
     ]
    }
   ],
   "source": [
    "# Definamos unos pesos y sesgo\n",
    "inputs = np.array([0.7, -0.3])\n",
    "pesos = np.array([0.1, 0.8])\n",
    "sesgo = -0.1\n",
    "\n",
    "clasificador_log = Neurona(pesos, sesgo, sigmoide)\n",
    "\n",
    "# Hacemos una predicción\n",
    "output = clasificador_log.forward(inputs)\n",
    "print(f'Output: {output:.4f}')"
   ]
  },
  {
   "attachments": {},
   "cell_type": "markdown",
   "metadata": {},
   "source": [
    "## Pruebas extra\n",
    "\n",
    "- Define una función de activación tangente hiperbólica. (1 punto)\n",
    "- Contesta: ¿La tanh y sigmoide producen las mismas salidas? (1 punto)"
   ]
  },
  {
   "cell_type": "code",
   "execution_count": null,
   "metadata": {},
   "outputs": [],
   "source": []
  },
  {
   "cell_type": "code",
   "execution_count": null,
   "metadata": {},
   "outputs": [],
   "source": []
  }
 ],
 "metadata": {
  "kernelspec": {
   "display_name": "nni",
   "language": "python",
   "name": "python3"
  },
  "language_info": {
   "codemirror_mode": {
    "name": "ipython",
    "version": 3
   },
   "file_extension": ".py",
   "mimetype": "text/x-python",
   "name": "python",
   "nbconvert_exporter": "python",
   "pygments_lexer": "ipython3",
   "version": "3.12.1"
  },
  "vscode": {
   "interpreter": {
    "hash": "cbad788490f55b163920bee5e9d5e0cba00db5905dc94f4bdbe0011e55bf465f"
   }
  },
  "widgets": {
   "state": {},
   "version": "1.1.2"
  }
 },
 "nbformat": 4,
 "nbformat_minor": 2
}
