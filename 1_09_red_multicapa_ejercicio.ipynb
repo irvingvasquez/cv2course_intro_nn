{
 "cells": [
  {
   "attachments": {},
   "cell_type": "markdown",
   "metadata": {},
   "source": [
    "# Red neuronal multicapa\n",
    "\n",
    "Ejercicio (3 puntos posibles)\n",
    "\n",
    "Una red neuronal multicapa tiene capas ocultas entre la entrada y la salida. A este tipo de red también se le conoce como perceptrón multicapa (MLP por sus siglas en inglés de multilayer perceptron)\n",
    "\n",
    "En este ejercicio implementaremos una red neuronal multicapa usando únicamente numpy.\n",
    "\n",
    "INSTRUCCIONES: Completa el código faltante.\n",
    "\n",
    "[![Open In Colab](https://colab.research.google.com/assets/colab-badge.svg)](https://colab.research.google.com/github/irvingvasquez/cv2course_intro_nn/blob/master/07_red_multicapa_ejercicio.ipynb)\n",
    "\n",
    "@juan1rving"
   ]
  },
  {
   "cell_type": "code",
   "execution_count": 1,
   "metadata": {},
   "outputs": [],
   "source": [
    "# Importamos paquetes\n",
    "import numpy as np\n",
    "import nni\n",
    "\n",
    "np.random.seed(42)"
   ]
  },
  {
   "attachments": {},
   "cell_type": "markdown",
   "metadata": {},
   "source": [
    "## Definamos la arquitectura de la red\n",
    "\n",
    "La red objetivo (mostrada en la figura) tiene cuatro elementos en la capa de entrada, tres neuronas en la capa oculta y dos neuronas en la capa de salida.\n",
    "\n",
    "<img src=\"files/test1.png\">"
   ]
  },
  {
   "cell_type": "code",
   "execution_count": null,
   "metadata": {},
   "outputs": [],
   "source": [
    "# Especifica el tamaño de las capas de acuerdo al diagrama de arriba.\n",
    "N_input = None\n",
    "N_hidden = None\n",
    "N_output = None"
   ]
  },
  {
   "attachments": {},
   "cell_type": "markdown",
   "metadata": {},
   "source": [
    "## Definir los pesos\n",
    "\n",
    "Recordemos que los pesos ahora los representamos con matrices y utilizaremos el producto punto de la siguiente forma:\n",
    "\n",
    "$$\n",
    "H = XW\n",
    "$$\n",
    "\n",
    "Por ejemplo, para una capa de tres entradas y dos salidas:\n",
    "\n",
    "$$ X = \\begin{bmatrix} x_1 & x_2 & x_3 \\end{bmatrix} $$\n",
    "\n",
    "y\n",
    "\n",
    "$$W = \\begin{bmatrix}\n",
    "w_{1,1} & w_{1,2}\n",
    " \\\\\n",
    "w_{2,1} & w_{2,2}\n",
    " \\\\\n",
    "w_{3,1} & w_{3,2}\n",
    " \\\\\n",
    "\\end{bmatrix}$$\n",
    "\n",
    "recuerda que los renglones se relacionan con las entradas y las columnas con los nodos intermedios. \n",
    "\n",
    "Como herramienta para inicializar los pesos usaremos la función normal (verifica la documentación oficial de la función):\n",
    "\n",
    "> numpy.random.normal(loc=0.0, scale=1.0, size=None)\n",
    "\n",
    "TODO: construye a contrinuación matrices con valores aleatorios para la matriz de pesos entre la entrada y la oculta y para la oculta y la salida."
   ]
  },
  {
   "cell_type": "code",
   "execution_count": null,
   "metadata": {},
   "outputs": [],
   "source": [
    "#TODO (1 punto): Completa el código faltante\n",
    "\n",
    "# Especifica la media y desviación estandar a usar. Revisa de las lecciones el tipo de inicialización de tipo Gaussiana o normal.\n",
    "mean = None\n",
    "stdev = None\n",
    "\n",
    "# crea las matrices de pesos de forma dinámica a partir de los valores que se pone en los tamaños de la red\n",
    "# Inicializalos de forma aleatoria usando una distribución normal\n",
    "W_1 = None\n",
    "W_2 = None\n",
    "\n",
    "# Inserta un valor aleatorio para la entrada, usando numpy\n",
    "X = None\n"
   ]
  },
  {
   "attachments": {},
   "cell_type": "markdown",
   "metadata": {},
   "source": [
    "## Calcular la salida\n",
    "\n",
    "Recordemos de la lección que\n",
    "\n",
    "$$ H = X W $$\n",
    "\n",
    "$$ \\hat{Y} = f(H) $$"
   ]
  },
  {
   "cell_type": "code",
   "execution_count": null,
   "metadata": {},
   "outputs": [],
   "source": [
    "# TODO (1 punto): Completa el código faltante\n",
    "\n",
    "# Calcula la salida de la primera capa oculta\n",
    "H_1 = None\n",
    "# Función de activación\n",
    "A_1 = nni.sigmoid(H_1)\n",
    "\n",
    "print(\"salida de la capa oculta: \", A_1)\n",
    "\n",
    "H_2 = None \n",
    "# Función de activación de la salida\n",
    "Y_circunfleja = nni.sigmoid(H_2)\n",
    "\n",
    "print(\"salida de la red: \", Y_circunfleja)\n"
   ]
  },
  {
   "attachments": {},
   "cell_type": "markdown",
   "metadata": {},
   "source": [
    "(1 punto) Responde a las siguientes preguntas:\n",
    "\n",
    "¿Qué tendriamos que modificar en el código para incluir los sesgos?\n"
   ]
  },
  {
   "cell_type": "markdown",
   "metadata": {},
   "source": []
  }
 ],
 "metadata": {
  "kernelspec": {
   "display_name": "nni",
   "language": "python",
   "name": "python3"
  },
  "language_info": {
   "codemirror_mode": {
    "name": "ipython",
    "version": 3
   },
   "file_extension": ".py",
   "mimetype": "text/x-python",
   "name": "python",
   "nbconvert_exporter": "python",
   "pygments_lexer": "ipython3",
   "version": "3.12.1"
  },
  "vscode": {
   "interpreter": {
    "hash": "cbad788490f55b163920bee5e9d5e0cba00db5905dc94f4bdbe0011e55bf465f"
   }
  },
  "widgets": {
   "state": {},
   "version": "1.1.2"
  }
 },
 "nbformat": 4,
 "nbformat_minor": 2
}
